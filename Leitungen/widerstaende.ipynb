{
 "cells": [
  {
   "cell_type": "code",
   "execution_count": null,
   "metadata": {},
   "outputs": [],
   "source": [
    "# Author: Ch.Laßmann <CsharpLassi>\n",
    "# Version: 1.0 13.12.2020"
   ]
  },
  {
   "cell_type": "code",
   "execution_count": 28,
   "metadata": {},
   "outputs": [],
   "source": [
    "from ipywidgets import *\n",
    "import ipywidgets as widgets\n",
    "\n",
    "import matplotlib.pyplot as plt\n",
    "import numpy as np\n",
    "%matplotlib inline\n",
    "\n",
    "plt.rcParams[\"figure.figsize\"] = (10, 5)"
   ]
  },
  {
   "cell_type": "code",
   "execution_count": 29,
   "metadata": {},
   "outputs": [],
   "source": [
    "gamma_cu = 56"
   ]
  },
  {
   "cell_type": "code",
   "execution_count": 30,
   "metadata": {},
   "outputs": [],
   "source": [
    "def r (l,q):\n",
    "    return l/(gamma_cu*q)"
   ]
  },
  {
   "cell_type": "code",
   "execution_count": 32,
   "metadata": {},
   "outputs": [
    {
     "data": {
      "application/vnd.jupyter.widget-view+json": {
       "model_id": "52a6c623a33a490ba738489e2140aa51",
       "version_major": 2,
       "version_minor": 0
      },
      "text/plain": [
       "interactive(children=(FloatSlider(value=100.0, description='Länge', max=200.0, step=1.0), FloatSlider(value=2.…"
      ]
     },
     "metadata": {},
     "output_type": "display_data"
    },
    {
     "data": {
      "text/plain": [
       "<function __main__.update(select_l=100, select_q=2.5)>"
      ]
     },
     "execution_count": 32,
     "metadata": {},
     "output_type": "execute_result"
    }
   ],
   "source": [
    "def plot(select_l = 100,select_q = 2.5,save_fname:str=None):\n",
    "    \n",
    "    fig, ((ax1, ax2)) = plt.subplots(1, 2)\n",
    "    \n",
    "    l_max = 200\n",
    "    \n",
    "    l = np.linspace(0,l_max)\n",
    "    \n",
    "    q = np.linspace(0.1,20)\n",
    "    \n",
    "    # Plot 1\n",
    "    ax1.plot(q, r(select_l,q),color='red')\n",
    "    \n",
    "    ax1.plot(1.5,r(select_l,1.5),color='blue',marker='o')\n",
    "    ax1.plot(4,r(select_l,4),color='green',marker='o')\n",
    "    ax1.plot(16,r(select_l,16),color='magenta',marker='o')\n",
    "    \n",
    "    ax1.plot(select_q,r(select_l,select_q),color='orange',marker='o')\n",
    "    \n",
    "    ax1.set_xlim((0,np.max(q)))\n",
    "    ax1.set_ylim((0,3.5))\n",
    "    \n",
    "    ax1.set_xlabel(r\"Querschnitt in $mm^2$\")\n",
    "    ax1.set_ylabel(r\"Widerstand in $\\Omega$\")\n",
    "    \n",
    "    \n",
    "    ax1.grid()\n",
    "    \n",
    "    # Plot 2\n",
    "    ax2.axvline(select_l,color='red')\n",
    "    \n",
    "    ax2.plot(l,r(l,1.5),label=f'1,5',color='blue')\n",
    "    ax2.plot(select_l,r(select_l,1.5),color='blue',marker='o')\n",
    "    \n",
    "    ax2.plot(l,r(l,4),label=f'4',color='green')\n",
    "    ax2.plot(select_l,r(select_l,4),color='green',marker='o')\n",
    "    \n",
    "    ax2.plot(l,r(l,16),label=f'16',color='magenta')\n",
    "    ax2.plot(select_l,r(select_l,16),color='magenta',marker='o')\n",
    "    \n",
    "    ax2.plot(l,r(l,select_q),label=f'{select_q:.1f}',color='orange')\n",
    "    ax2.plot(select_l,r(select_l,select_q),color='orange',marker='o')\n",
    "    \n",
    "    \n",
    "    ax2.set_xlim((0,l_max))\n",
    "    ax2.set_ylim((0,3.5))\n",
    "    \n",
    "    ax2.set_xlabel(r\"Länge in $m$\")\n",
    "    ax2.set_ylabel(r\"Widerstand in $\\Omega$\")\n",
    "    \n",
    "    ax2.legend()\n",
    "    ax2.grid()\n",
    "    \n",
    "    if save_fname:\n",
    "        plt.savefig(save_fname)\n",
    "    \n",
    "    plt.show()\n",
    "    \n",
    "def update(select_l = 100,select_q = 2.5):\n",
    "    plot(select_l=select_l,select_q=select_q)\n",
    "    \n",
    "interact(update, \n",
    "         select_l = widgets.FloatSlider(description='Länge',value=100, min=0, max=200, step=1),\n",
    "         select_q = widgets.FloatSlider(description='Querschnitt',value=2.5, min=0.5, max=20, step=0.25))"
   ]
  },
  {
   "cell_type": "code",
   "execution_count": null,
   "metadata": {},
   "outputs": [],
   "source": []
  }
 ],
 "metadata": {
  "kernelspec": {
   "display_name": "Python 3",
   "language": "python",
   "name": "python3"
  },
  "language_info": {
   "codemirror_mode": {
    "name": "ipython",
    "version": 3
   },
   "file_extension": ".py",
   "mimetype": "text/x-python",
   "name": "python",
   "nbconvert_exporter": "python",
   "pygments_lexer": "ipython3",
   "version": "3.8.6"
  }
 },
 "nbformat": 4,
 "nbformat_minor": 4
}

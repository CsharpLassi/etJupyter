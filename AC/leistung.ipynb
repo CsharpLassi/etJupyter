{
 "cells": [
  {
   "cell_type": "code",
   "execution_count": 1,
   "metadata": {},
   "outputs": [],
   "source": [
    "# Author: Ch.Laßmann <CsharpLassi>\n",
    "# Version: 0.1 03.12.2020"
   ]
  },
  {
   "cell_type": "code",
   "execution_count": 2,
   "metadata": {},
   "outputs": [],
   "source": [
    "from ipywidgets import interact, interactive, fixed, interact_manual\n",
    "import ipywidgets as widgets\n",
    "\n",
    "import matplotlib.pyplot as plt\n",
    "import numpy as np\n",
    "%matplotlib inline\n",
    "\n",
    "plt.rcParams[\"figure.figsize\"] = (13, 5)\n"
   ]
  },
  {
   "cell_type": "code",
   "execution_count": 3,
   "metadata": {},
   "outputs": [],
   "source": [
    "u_eff = 1\n",
    "i_eff = 0.9\n",
    "f = 50\n",
    "per = 2"
   ]
  },
  {
   "cell_type": "code",
   "execution_count": 11,
   "metadata": {},
   "outputs": [
    {
     "data": {
      "application/vnd.jupyter.widget-view+json": {
       "model_id": "7d6c5e92d77c425a91a51db9ea561e8f",
       "version_major": 2,
       "version_minor": 0
      },
      "text/plain": [
       "interactive(children=(FloatSlider(value=0.0, description='phi', max=90.0, min=-90.0, step=1.0), Output()), _do…"
      ]
     },
     "metadata": {},
     "output_type": "display_data"
    },
    {
     "data": {
      "text/plain": [
       "<function __main__.update(phi=0)>"
      ]
     },
     "execution_count": 11,
     "metadata": {},
     "output_type": "execute_result"
    }
   ],
   "source": [
    "def plot_func(phi=0, save_fname:str=None):\n",
    "    omega = 2* np.pi* f\n",
    "    t = np.linspace(-per/(2*f),per/(2*f), num =100)\n",
    "    phi_rad = phi/180*np.pi\n",
    "    phi_3_rad = 0\n",
    "    \n",
    "    z = u_eff / i_eff\n",
    "    r = z * np.cos(phi_rad)\n",
    "    x = np.abs(z*np.sin(phi_rad))\n",
    "    \n",
    "    \n",
    "    u = np.sqrt(2) * u_eff * np.cos(2*np.pi*f*t)\n",
    "    i = np.sqrt(2) * i_eff * np.cos(2*np.pi*f*t - phi_rad)\n",
    "    p = u * i\n",
    "    \n",
    "    p_line_value = np.max(p)+np.min(p)\n",
    "    p_line =np.minimum(p, np.ones(len(p))*p_line_value)\n",
    "    \n",
    "    p_min = 3* u_eff * i_eff * np.cos(np.pi *3/4)\n",
    "    p_max = 3* u_eff * i_eff\n",
    "    \n",
    "    plt.subplot(2, 1, 1)\n",
    "    plt.xlim(t[0],t[-1])\n",
    "    plt.plot(t,u,label=\"Spannung\")\n",
    "    plt.plot(t,i,label=\"Strom\",)\n",
    "    # plt.plot(t,p)\n",
    "    plt.legend(loc=1)\n",
    "    plt.grid(True)\n",
    "\n",
    "    plt.subplot(2, 1, 2)\n",
    "    plt.xlim(t[0],t[-1])\n",
    "    plt.ylim((p_min,p_max))\n",
    "    plt.plot(t,p)\n",
    "    plt.grid(True)\n",
    "    \n",
    "    \n",
    "    plt.fill_between(t, p_line,\n",
    "                 where=(p_line >= 0),\n",
    "                 alpha=0.80, color='green', interpolate=True, label='Wirkarbeit')\n",
    "\n",
    "    plt.fill_between(t, p, p_line,\n",
    "                 where=(p >= p_line_value),\n",
    "                 alpha=0.80, color='yellow', interpolate=True, label='Blindarbeit')\n",
    "\n",
    "    plt.fill_between(t, p_line,\n",
    "                 where=(p_line < 0),\n",
    "                 alpha=0.80, color='red', interpolate=True, label='Blindarbeit')\n",
    "    \n",
    "    \n",
    "    plt.legend(loc=1)\n",
    "    \n",
    "    #plt.axhline(p_r,color = 'green')\n",
    "    #plt.axhline(p_q,color = 'red')\n",
    "    \n",
    "    plt.xlabel('Zeit in ms')\n",
    "    \n",
    "    \n",
    "    if save_fname:\n",
    "        plt.savefig(save_fname)\n",
    "    \n",
    "    plt.tight_layout()\n",
    "    plt.show()\n",
    "    \n",
    "def update(phi = 0):\n",
    "    plot_func(phi)\n",
    "    \n",
    "interact(update, \n",
    "         phi = widgets.FloatSlider(value=0, min=-90, max=90, step=1))"
   ]
  },
  {
   "cell_type": "code",
   "execution_count": null,
   "metadata": {},
   "outputs": [],
   "source": []
  }
 ],
 "metadata": {
  "kernelspec": {
   "display_name": "Python 3",
   "language": "python",
   "name": "python3"
  },
  "language_info": {
   "codemirror_mode": {
    "name": "ipython",
    "version": 3
   },
   "file_extension": ".py",
   "mimetype": "text/x-python",
   "name": "python",
   "nbconvert_exporter": "python",
   "pygments_lexer": "ipython3",
   "version": "3.8.6"
  }
 },
 "nbformat": 4,
 "nbformat_minor": 4
}

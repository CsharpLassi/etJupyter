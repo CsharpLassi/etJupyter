{
 "cells": [
  {
   "cell_type": "code",
   "execution_count": 1,
   "metadata": {},
   "outputs": [],
   "source": [
    "import numpy as np\n",
    "import matplotlib.pyplot as plt\n",
    "%matplotlib inline\n",
    "plt.rcParams[\"figure.figsize\"] = (10, 10)"
   ]
  },
  {
   "cell_type": "code",
   "execution_count": 2,
   "metadata": {},
   "outputs": [],
   "source": [
    "from ipywidgets import interact, interactive, fixed, interact_manual\n",
    "import ipywidgets as widgets"
   ]
  },
  {
   "cell_type": "code",
   "execution_count": 3,
   "metadata": {},
   "outputs": [
    {
     "data": {
      "application/vnd.jupyter.widget-view+json": {
       "model_id": "d82ba5ed88774c12b6ca31501df95c3f",
       "version_major": 2,
       "version_minor": 0
      },
      "text/plain": [
       "interactive(children=(FloatSlider(value=0.0, description='i_a', max=1.0, step=0.05), Checkbox(value=True, desc…"
      ]
     },
     "metadata": {},
     "output_type": "display_data"
    },
    {
     "data": {
      "text/plain": [
       "<function __main__.plot_func(i_a=0, draw_e=True, draw_a=True)>"
      ]
     },
     "execution_count": 3,
     "metadata": {},
     "output_type": "execute_result"
    }
   ],
   "source": [
    "num = 15\n",
    "center = 7\n",
    "x_m = 1.5\n",
    "\n",
    "def plot_func(i_a=0, draw_e=True, draw_a=True):\n",
    "    x,y = np.meshgrid(np.linspace(-x_m,x_m,num),np.linspace(-x_m,x_m,num))\n",
    "    x_lin = np.linspace(-x_m,x_m,num)\n",
    "    \n",
    "    u_a = np.zeros((num,num))\n",
    "    v_a = np.zeros((num,num))\n",
    "    \n",
    "    u_e = np.zeros((num,num))\n",
    "    v_e = - np.ones((num,num))\n",
    "    \n",
    "    v_e[x < -1] = 0\n",
    "    v_e[x > 1] = 0\n",
    "    \n",
    "    def add_wire(x_d,y_d,sign):\n",
    "            nonlocal x,y\n",
    "            nonlocal u_a,v_a\n",
    "            plt.text(x_d, y_d, 'O' if sign > 0 else 'X' , fontsize=12, \n",
    "                     horizontalalignment='center', \n",
    "                     verticalalignment='center')\n",
    "\n",
    "            v_x = x - x_d\n",
    "            v_y = y - y_d\n",
    "\n",
    "            amp = sign * i_a / (np.sqrt(v_x**2 + v_y**2) * 25)\n",
    "\n",
    "            u_a += amp * -np.sin(np.arctan2(v_y,v_x))\n",
    "            v_a += amp * np.cos(np.arctan2(v_y,v_x))\n",
    "    \n",
    "\n",
    "\n",
    "    \n",
    "    \n",
    "    n = 9\n",
    "    for i in range(n):\n",
    "        \n",
    "\n",
    "        phi = np.pi/(2*10)*i\n",
    "\n",
    "        x_d = np.sin(phi)\n",
    "        y_d = np.cos(phi)\n",
    "\n",
    "        add_wire(x_d,y_d,1)\n",
    "\n",
    "        add_wire(-x_d,-y_d,-1)\n",
    "\n",
    "        if i > 0:\n",
    "            add_wire(-x_d,y_d,1)\n",
    "            add_wire(x_d,-y_d,-1)\n",
    "\n",
    "    u = u_e+u_a\n",
    "    v = v_e+v_a\n",
    "            \n",
    "    phi_center = np.arctan2(v[center],u[center])[center] + np.pi/2\n",
    "    neutral_zone = phi_center * x_lin\n",
    "\n",
    "    circle1 = plt.Circle((0, 0), 1, color='r', fill=False)\n",
    "    plt.gcf().gca().add_artist(circle1)\n",
    "    \n",
    "    circle2 = plt.Circle((0, 0), 0.025, color='black')\n",
    "    plt.gcf().gca().add_artist(circle2)\n",
    "    \n",
    "    u_d = None\n",
    "    v_d = None\n",
    "    \n",
    "    if draw_e and draw_a:\n",
    "        u_d = u\n",
    "        v_d = v\n",
    "    elif draw_e:\n",
    "        u_d = u_e\n",
    "        v_d = v_e\n",
    "    elif draw_a:\n",
    "        u_d = u_a\n",
    "        v_d = v_a\n",
    "    \n",
    "    if u_d is not None and v_d is not None:\n",
    "        plt.quiver(x,y,u_d,v_d, minlength=1,scale= 25, color='Teal', headlength=7)\n",
    "    \n",
    "    \n",
    "    if draw_e and draw_a:\n",
    "        plt.plot(x_lin,neutral_zone,'black')\n",
    "    plt.axis('equal')\n",
    "    plt.show()\n",
    "    \n",
    "interact(plot_func, \n",
    "         i_a = widgets.FloatSlider(value=0, min=0, max=1, step=0.05), \n",
    "         )"
   ]
  },
  {
   "cell_type": "code",
   "execution_count": null,
   "metadata": {},
   "outputs": [],
   "source": []
  }
 ],
 "metadata": {
  "kernelspec": {
   "display_name": "Python 3",
   "language": "python",
   "name": "python3"
  },
  "language_info": {
   "codemirror_mode": {
    "name": "ipython",
    "version": 3
   },
   "file_extension": ".py",
   "mimetype": "text/x-python",
   "name": "python",
   "nbconvert_exporter": "python",
   "pygments_lexer": "ipython3",
   "version": "3.8.6"
  }
 },
 "nbformat": 4,
 "nbformat_minor": 4
}

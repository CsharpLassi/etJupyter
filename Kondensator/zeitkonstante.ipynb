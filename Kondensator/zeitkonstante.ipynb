{
 "cells": [
  {
   "cell_type": "code",
   "execution_count": 1,
   "metadata": {},
   "outputs": [],
   "source": [
    "# Author: Ch.Laßmann <CsharpLassi>\n",
    "# Version: 1 03.12.2020"
   ]
  },
  {
   "cell_type": "code",
   "execution_count": 2,
   "metadata": {},
   "outputs": [],
   "source": [
    "from ipywidgets import *\n",
    "\n",
    "import numpy as np\n",
    "import matplotlib.pyplot as plt\n",
    "\n",
    "%matplotlib inline"
   ]
  },
  {
   "cell_type": "code",
   "execution_count": 3,
   "metadata": {},
   "outputs": [],
   "source": [
    "def print_charge_curve(u=5, tau=5, base_tau=5):\n",
    "    x = np.linspace(0, 6.5 * base_tau)\n",
    "    y = u * (1 - np.exp(-x / tau))\n",
    "    t = u / tau * x\n",
    "\n",
    "    plt.plot(x, y, 'g')\n",
    "\n",
    "    plt.grid()\n",
    "    plt.xlim((0, x[-1]))\n",
    "    plt.ylim((0 , u * 1.1))\n",
    "\n",
    "    plt.xlabel(rf'Zeit in s')\n",
    "    plt.ylabel(r'Spannung in V')\n",
    "\n",
    "    # U_0\n",
    "    plt.axhline(u, color='b')\n",
    "    plt.text(0.3, u + 0.1, '$U$', fontsize=12)\n",
    "    \n",
    "    # Tau\n",
    "    plt.axvline(tau, color='r')\n",
    "    plt.text(tau +0.1, +0.1, f'$𝜏 = {tau} s$', fontsize=12)\n",
    "\n",
    "    # Tangente\n",
    "    plt.plot(x, t, 'm')"
   ]
  },
  {
   "cell_type": "code",
   "execution_count": 4,
   "metadata": {},
   "outputs": [
    {
     "data": {
      "application/vnd.jupyter.widget-view+json": {
       "model_id": "f8af6aaf111944a787b9cb0389253bd7",
       "version_major": 2,
       "version_minor": 0
      },
      "text/plain": [
       "interactive(children=(FloatSlider(value=5.0, description='tau', max=20.0, min=0.1), Output()), _dom_classes=('…"
      ]
     },
     "metadata": {},
     "output_type": "display_data"
    },
    {
     "data": {
      "text/plain": [
       "<function __main__.update(tau)>"
      ]
     },
     "execution_count": 4,
     "metadata": {},
     "output_type": "execute_result"
    }
   ],
   "source": [
    "def update(tau):\n",
    "        print_charge_curve(tau=tau)\n",
    "interact(update,tau=widgets.FloatSlider(value=5, min=0.1, max=20, step=0.1) )"
   ]
  },
  {
   "cell_type": "code",
   "execution_count": null,
   "metadata": {},
   "outputs": [],
   "source": []
  }
 ],
 "metadata": {
  "kernelspec": {
   "display_name": "Python 3",
   "language": "python",
   "name": "python3"
  },
  "language_info": {
   "codemirror_mode": {
    "name": "ipython",
    "version": 3
   },
   "file_extension": ".py",
   "mimetype": "text/x-python",
   "name": "python",
   "nbconvert_exporter": "python",
   "pygments_lexer": "ipython3",
   "version": "3.8.6"
  }
 },
 "nbformat": 4,
 "nbformat_minor": 4
}

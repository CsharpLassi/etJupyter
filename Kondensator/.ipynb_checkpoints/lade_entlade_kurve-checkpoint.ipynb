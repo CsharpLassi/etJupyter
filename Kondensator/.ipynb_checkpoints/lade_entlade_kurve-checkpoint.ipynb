{
 "cells": [
  {
   "cell_type": "code",
   "execution_count": 24,
   "metadata": {},
   "outputs": [],
   "source": [
    "from ipywidgets import *\n",
    "\n",
    "import matplotlib.pyplot as plt\n",
    "import numpy as np\n",
    "from scipy import signal\n",
    "\n",
    "%matplotlib inline"
   ]
  },
  {
   "cell_type": "code",
   "execution_count": 25,
   "metadata": {},
   "outputs": [],
   "source": [
    "def u_c_t(u_t, tau, dt):\n",
    "    c = 1\n",
    "    u_c = 0\n",
    "    q = 0\n",
    "    r = tau / c\n",
    "    for u in u_t:\n",
    "        yield u_c\n",
    "        i = (u - u_c) / r\n",
    "        q += i * dt\n",
    "        u_c = q / c"
   ]
  },
  {
   "cell_type": "code",
   "execution_count": 31,
   "metadata": {},
   "outputs": [
    {
     "data": {
      "application/vnd.jupyter.widget-view+json": {
       "model_id": "75570188838646ea93c6f88e79f36bb5",
       "version_major": 2,
       "version_minor": 0
      },
      "text/plain": [
       "interactive(children=(FloatSlider(value=1.0, description='f_f', max=10.0, min=1.0, step=1.0), Output()), _dom_…"
      ]
     },
     "metadata": {},
     "output_type": "display_data"
    }
   ],
   "source": [
    "def print_square_function(u=5, f_f=1, tau=2, e_tau='s'):\n",
    "    t = np.linspace(0, 2 * 6 * tau, 500, endpoint=False)\n",
    "    dt = (np.max(t) - np.min(t)) / len(t)\n",
    "\n",
    "    f = f_f / (2 * 5 * tau)\n",
    "\n",
    "    u_t = u * (signal.square(2 * np.pi * f * t) / 2 + 0.5)\n",
    "\n",
    "    plt.plot(t, u_t, color='b')\n",
    "    plt.plot(t, list(u_c_t(u_t, tau, dt)), color='g')\n",
    "\n",
    "    plt.grid()\n",
    "    plt.xlim((0, t[-1]))\n",
    "    plt.ylim((0, u * 1.1))\n",
    "\n",
    "    plt.xlabel(rf'Zeit in {e_tau}')\n",
    "    plt.ylabel(r'Spannung in V')\n",
    "\n",
    "    return plt\n",
    "\n",
    "def update_square(f_f):\n",
    "    print_square_function(f_f=f_f)\n",
    "\n",
    "interact(update_square,f_f=widgets.FloatSlider(value=1, min=1, max=10, step=1));"
   ]
  },
  {
   "cell_type": "code",
   "execution_count": 32,
   "metadata": {},
   "outputs": [
    {
     "data": {
      "application/vnd.jupyter.widget-view+json": {
       "model_id": "259c34a0d83c4c03806a5f87b00826d6",
       "version_major": 2,
       "version_minor": 0
      },
      "text/plain": [
       "interactive(children=(FloatSlider(value=1.0, description='f_f', max=10.0, min=1.0, step=1.0), Output()), _dom_…"
      ]
     },
     "metadata": {},
     "output_type": "display_data"
    }
   ],
   "source": [
    "def print_sin_function(u=5, f_f=1, tau=2, e_tau='s'):\n",
    "    t = np.linspace(0, 2 * 6 * tau, 500, endpoint=False)\n",
    "    dt = (np.max(t) - np.min(t)) / len(t)\n",
    "\n",
    "    f = f_f / (2 * 5 * tau)\n",
    "\n",
    "    u_t = u * (np.sin(2 * np.pi * f * t) / 2 + 0.5)\n",
    "\n",
    "    plt.plot(t, u_t, color='b')\n",
    "    plt.plot(t, list(u_c_t(u_t, tau, dt)), color='g')\n",
    "\n",
    "    plt.grid()\n",
    "    plt.xlim((0, t[-1]))\n",
    "    plt.ylim((0, u * 1.1))\n",
    "\n",
    "    plt.xlabel(rf'Zeit in {e_tau}')\n",
    "    plt.ylabel(r'Spannung in V')\n",
    "\n",
    "    return plt\n",
    "\n",
    "def update_sin(f_f):\n",
    "    print_sin_function(f_f=f_f)\n",
    "\n",
    "interact(update_sin,f_f=widgets.FloatSlider(value=1, min=1, max=10, step=1));"
   ]
  },
  {
   "cell_type": "code",
   "execution_count": null,
   "metadata": {},
   "outputs": [],
   "source": []
  }
 ],
 "metadata": {
  "kernelspec": {
   "display_name": "Python 3",
   "language": "python",
   "name": "python3"
  },
  "language_info": {
   "codemirror_mode": {
    "name": "ipython",
    "version": 3
   },
   "file_extension": ".py",
   "mimetype": "text/x-python",
   "name": "python",
   "nbconvert_exporter": "python",
   "pygments_lexer": "ipython3",
   "version": "3.8.6"
  }
 },
 "nbformat": 4,
 "nbformat_minor": 4
}

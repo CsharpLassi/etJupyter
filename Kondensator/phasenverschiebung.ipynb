{
 "cells": [
  {
   "cell_type": "code",
   "execution_count": 1,
   "metadata": {},
   "outputs": [],
   "source": [
    "# Author: Ch.Laßmann <CsharpLassi>\n",
    "# Version: 1.0 03.12.2020"
   ]
  },
  {
   "cell_type": "code",
   "execution_count": 2,
   "metadata": {},
   "outputs": [],
   "source": [
    "from ipywidgets import *\n",
    "\n",
    "import matplotlib.pyplot as plt\n",
    "import numpy as np\n",
    "from scipy import signal\n",
    "\n",
    "%matplotlib inline"
   ]
  },
  {
   "cell_type": "code",
   "execution_count": 10,
   "metadata": {},
   "outputs": [
    {
     "data": {
      "application/vnd.jupyter.widget-view+json": {
       "model_id": "9d3f0a07ed104bb0a06b7f1cb6887df6",
       "version_major": 2,
       "version_minor": 0
      },
      "text/plain": [
       "interactive(children=(FloatSlider(value=-45.0, description='phi', max=0.0, min=-90.0, step=0.5), Output()), _d…"
      ]
     },
     "metadata": {},
     "output_type": "display_data"
    }
   ],
   "source": [
    "def print_sin_u_i_function(phi=-45):\n",
    "    \n",
    "    f = 0.5\n",
    "    t = np.linspace(0, 2 / f, 500, endpoint=False)\n",
    "\n",
    "    phi_rad = phi / 180 * np.pi\n",
    "\n",
    "    u_max = 1\n",
    "    i_max = 0.75\n",
    "\n",
    "    u_t = u_max * np.sin(2 * np.pi * f * t)\n",
    "    i_t = i_max * np.sin(2 * np.pi * f * t - phi_rad)\n",
    "\n",
    "    plt.plot(t, u_t, color='b', label=\"Spannung\")\n",
    "    plt.plot(t, i_t, color='r', label=\"Strom\")\n",
    "\n",
    "    plt.grid()\n",
    "    plt.xlim((0, t[-1]))\n",
    "    plt.ylim((-1.2, 1.7))\n",
    "\n",
    "    # Markers\n",
    "    if phi < -10:\n",
    "        t_u_max = 1 / (4 * f)\n",
    "        t_i_max = t_u_max + phi / 90 * 1 / (4 * f)\n",
    "\n",
    "        plt.plot([t_u_max, t_u_max],\n",
    "                 [u_max, u_max + 0.5], color='b')\n",
    "\n",
    "        plt.plot([t_i_max, t_i_max],\n",
    "                 [i_max, u_max + 0.5], color='r')\n",
    "\n",
    "        plt.plot([t_u_max, t_i_max],\n",
    "                 [u_max + 0.4, u_max + 0.4], color='black')\n",
    "\n",
    "        plt.text((t_i_max+t_u_max)/2-0.05, u_max + 0.45, fr'$\\varphi$', fontsize=12)\n",
    "\n",
    "    plt.xlabel(rf'Zeit in s')\n",
    "    plt.legend()\n",
    "    \n",
    "def update(phi):\n",
    "    print_sin_u_i_function(phi=phi)\n",
    "\n",
    "interact(update,phi=widgets.FloatSlider(value=-45, min=-90, max=0, step=0.5));"
   ]
  },
  {
   "cell_type": "code",
   "execution_count": null,
   "metadata": {},
   "outputs": [],
   "source": []
  }
 ],
 "metadata": {
  "kernelspec": {
   "display_name": "Python 3",
   "language": "python",
   "name": "python3"
  },
  "language_info": {
   "codemirror_mode": {
    "name": "ipython",
    "version": 3
   },
   "file_extension": ".py",
   "mimetype": "text/x-python",
   "name": "python",
   "nbconvert_exporter": "python",
   "pygments_lexer": "ipython3",
   "version": "3.8.6"
  }
 },
 "nbformat": 4,
 "nbformat_minor": 4
}

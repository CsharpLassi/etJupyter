{
 "cells": [
  {
   "cell_type": "code",
   "execution_count": 6,
   "metadata": {},
   "outputs": [],
   "source": [
    "# Author: Ch.Laßmann <CsharpLassi>\n",
    "# Version: 1 03.12.2020"
   ]
  },
  {
   "cell_type": "code",
   "execution_count": 3,
   "metadata": {},
   "outputs": [],
   "source": [
    "from ipywidgets import *\n",
    "\n",
    "import matplotlib.pyplot as plt\n",
    "import numpy as np\n",
    "from scipy import signal\n",
    "\n",
    "%matplotlib inline"
   ]
  },
  {
   "cell_type": "code",
   "execution_count": 4,
   "metadata": {},
   "outputs": [],
   "source": [
    "def u_c_t(u_t, tau, dt):\n",
    "    c = 1\n",
    "    u_c = 0\n",
    "    q = 0\n",
    "    r = tau / c\n",
    "    for u in u_t:\n",
    "        yield u_c\n",
    "        i = (u - u_c) / r\n",
    "        q += i * dt\n",
    "        u_c = q / c"
   ]
  },
  {
   "cell_type": "code",
   "execution_count": 5,
   "metadata": {},
   "outputs": [
    {
     "data": {
      "application/vnd.jupyter.widget-view+json": {
       "model_id": "2ca6b6891a224798997d14a17e201440",
       "version_major": 2,
       "version_minor": 0
      },
      "text/plain": [
       "interactive(children=(FloatSlider(value=5.0, description='tau', max=20.0, min=0.1), Output()), _dom_classes=('…"
      ]
     },
     "metadata": {},
     "output_type": "display_data"
    },
    {
     "data": {
      "text/plain": [
       "<function __main__.update_square(tau)>"
      ]
     },
     "execution_count": 5,
     "metadata": {},
     "output_type": "execute_result"
    }
   ],
   "source": [
    "def print_square_function(u=5, f_f=1,tau_base=5, tau=5, e_tau='s'):\n",
    "    t = np.linspace(0, 2 * 6 * tau_base, 500, endpoint=False)\n",
    "    dt = (np.max(t) - np.min(t)) / len(t)\n",
    "\n",
    "    f = f_f / (2 * 5 * tau_base)\n",
    "\n",
    "    u_t = u * (signal.square(2 * np.pi * f * t) / 2 + 0.5)\n",
    "\n",
    "    plt.plot(t, u_t, color='b')\n",
    "    plt.plot(t, list(u_c_t(u_t, tau, dt)), color='g')\n",
    "\n",
    "    plt.grid()\n",
    "    plt.xlim((0, t[-1]))\n",
    "    plt.ylim((0, u * 1.1))\n",
    "\n",
    "    plt.xlabel(rf'Zeit in {e_tau}')\n",
    "    plt.ylabel(r'Spannung in V')\n",
    "\n",
    "    return plt\n",
    "\n",
    "def update_square(tau):\n",
    "    print_square_function(tau=tau)\n",
    "\n",
    "interact(update_square,tau=widgets.FloatSlider(value=5, min=0.1, max=20, step=0.1))"
   ]
  },
  {
   "cell_type": "code",
   "execution_count": null,
   "metadata": {},
   "outputs": [],
   "source": []
  }
 ],
 "metadata": {
  "kernelspec": {
   "display_name": "Python 3",
   "language": "python",
   "name": "python3"
  },
  "language_info": {
   "codemirror_mode": {
    "name": "ipython",
    "version": 3
   },
   "file_extension": ".py",
   "mimetype": "text/x-python",
   "name": "python",
   "nbconvert_exporter": "python",
   "pygments_lexer": "ipython3",
   "version": "3.8.6"
  }
 },
 "nbformat": 4,
 "nbformat_minor": 4
}
